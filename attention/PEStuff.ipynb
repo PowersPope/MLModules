{
 "cells": [
  {
   "cell_type": "markdown",
   "id": "6e885871-4bef-44d4-a0bc-13741772309a",
   "metadata": {},
   "source": [
    "# Positional Encoding Schemas\n",
    "\n",
    "This notebook will be housed as a methods and tutorial like notebook for how to apply varying Positional Encoding (PE) methods. This will be important for the testing purposes of the MStA Transformer that I currently have.\n",
    "These methods will be applied to the model to see which will apply cyclic information successfully.\n",
    "The four different approaches that I am going to currently test are:\n",
    "\n",
    "- Absolute PE\n",
    "- Random (on the fly) Relative PE\n",
    "- Symmetric Relative Distance PE\n",
    "- Offset (Cyclic) Relative PE\n",
    "\n",
    "Formulas and desired outputs will be explicilty stated for easy implementation and understanding"
   ]
  },
  {
   "cell_type": "markdown",
   "id": "8c999bee-ccc3-4b33-b950-84d73d607b00",
   "metadata": {
    "jp-MarkdownHeadingCollapsed": true
   },
   "source": [
    "## Inital Variables\n",
    "\n",
    "First, we have to make a set of shareable inputs and functions that can be used across the methods. Also, of course load in the relavent modules that are important for us."
   ]
  },
  {
   "cell_type": "code",
   "execution_count": 159,
   "id": "da377239-96c3-4acb-befb-177513c0b8df",
   "metadata": {},
   "outputs": [],
   "source": [
    "import torch\n",
    "import numpy as np\n",
    "import torch.nn as nn\n",
    "import matplotlib.pyplot as plt\n",
    "import math"
   ]
  },
  {
   "cell_type": "code",
   "execution_count": 386,
   "id": "c948e7df-f99b-440e-a15a-a5aac1454f9c",
   "metadata": {},
   "outputs": [],
   "source": [
    "# Dimensions\n",
    "B = 100 # Batch\n",
    "L = 8   # Length (Sequence)\n",
    "dx = 128 # Sequence Embedding\n",
    "D = 128 # Embedding Dimension\n",
    "# Within this example dx and D are the same shape, but they are separated for the case that they may not be.\n",
    "\n",
    "# Instantiate the same x input shape and array for every PE\n",
    "x = torch.rand(size=(B, L, dx))\n",
    "\n",
    "# Also, we want the same linear funcitons\n",
    "q_linear = nn.Linear(dx, D, bias=False)\n",
    "k_linear = nn.Linear(dx, D, bias=False)\n",
    "v_linear = nn.Linear(dx, D, bias=False)\n",
    "\n",
    "# Or we can instantiate some weight matrices that will be used to multiply x by\n",
    "q_W = torch.rand(size=(dx, D), requires_grad=True)\n",
    "k_W = torch.rand(size=(dx, D), requires_grad=True)\n",
    "v_W = torch.rand(size=(dx, D), requires_grad=True)"
   ]
  },
  {
   "cell_type": "markdown",
   "id": "7eb25d1a-3784-474b-8f8b-c50367eeb731",
   "metadata": {},
   "source": [
    "### Within this example $d_x$ and $D$ are the same shape, but they are separated for the case that they may not be."
   ]
  },
  {
   "cell_type": "markdown",
   "id": "fa2bd401-6d61-472d-957b-e3f653f077a9",
   "metadata": {
    "jp-MarkdownHeadingCollapsed": true
   },
   "source": [
    "---\n",
    "# Absolute PE\n"
   ]
  },
  {
   "cell_type": "markdown",
   "id": "0b52e1ee-bbde-47a5-82ea-5352e659fa3c",
   "metadata": {},
   "source": [
    "Attention Is All You Need (Vaswani et al. 2017) https://arxiv.org/pdf/1706.03762.pdf\n",
    "\n",
    "The idea behind Absolute PE, is that sinusoidal information will be added or concatonated to the $x$ information, before going through the transformer. These $\\sin$ and $\\cos$ information are alternatingly added to $2i$ and $2i+1$ entries within the $d_x$ dimensions within our example.\n",
    "\n",
    "This can be written as:\n",
    "\n",
    "$ PE(pos, 2i) = \\sin(\\frac{pos}{10000^{\\frac{2i}{d_x}}}) $\n",
    "\n",
    "$ PE(pos, 2i+1) = \\cos(\\frac{pos}{10000^{\\frac{2i}{d_x}}}) $\n",
    "\n",
    "Since, this is added to x before going through the model it can be implemented trivially."
   ]
  },
  {
   "cell_type": "code",
   "execution_count": 175,
   "id": "e14740fa-7eca-4a27-a1de-a1ec46eebe65",
   "metadata": {},
   "outputs": [],
   "source": [
    "# init the pe positional tensor\n",
    "pe = torch.zeros(L, dx)\n",
    "\n",
    "# Make a row vector of each position\n",
    "position = torch.arange(0, L, dtype=torch.float).unsqueeze(1)\n",
    "\n",
    "# Calculate the division term using exponetnial and log forms\n",
    "div_term = torch.exp(torch.arange(0, dx, 2).float() * (-np.log(10000) / dx))\n",
    "\n",
    "# Now add these to pe\n",
    "pe[:, 0::2] = torch.sin(position * div_term)\n",
    "pe[:, 1::2] = torch.cos(position * div_term)\n",
    "\n",
    "# change the shape and permute pe (L, dx) -> (1, L, dx) -> (L, 1, dx)\n",
    "pe = pe.unsqueeze(0).transpose(0,1)\n",
    "\n",
    "# x needs to be permuted, so that the pe matrix can be broadcasted across each batch\n",
    "# After adding on pe, we can permute the resulting x to be back to the original dimensions\n",
    "# (L, B, D) -> (B, L, D)\n",
    "x_pe = (x.permute(1, 0, 2) + pe).permute(1, 0, 2)"
   ]
  },
  {
   "cell_type": "markdown",
   "id": "b76692a9-9230-415a-a485-2e6c24befb9f",
   "metadata": {
    "jp-MarkdownHeadingCollapsed": true
   },
   "source": [
    "---\n",
    "\n",
    "# Random Init Relative PE"
   ]
  },
  {
   "cell_type": "markdown",
   "id": "657547a8-f286-4357-b091-c1ec3bf2d392",
   "metadata": {},
   "source": [
    "Self-Attention with Relative Position Representations - Shaw et al. 2019 (https://arxiv.org/pdf/1803.02155.pdf)\n",
    "\n",
    "First we have to generate our values $Q, K, V \\in \\mathbb{R}^{B \\times L \\times D}$ by passing them through a linear layer (without a bias term) or multiply them by a weight matrix $W^{Q}, W^{K}, W^{V} \\in \\mathbb{R}^{d_x \\times D}$ where in this case $d_x = D$.\n",
    "\n",
    "Our input $x \\in \\mathbb{R}^{B \\times L \\times d_x}$\n",
    "\n",
    "\n",
    "Also, since this is the random version we must initalize our $a^K \\&$ $a^V \\in \\mathbb{R}^{L \\times L \\times D}$"
   ]
  },
  {
   "cell_type": "code",
   "execution_count": 271,
   "id": "ee2a0e58-adc3-45d9-8614-02ff924555ff",
   "metadata": {},
   "outputs": [],
   "source": [
    "# First we have to get our Q, K, and V of size (B, L, D) after linear function\n",
    "# Q, K, V = q_linear(x), k_linear(x), v_linear(x) # Linear no bias \n",
    "# or multiply weights\n",
    "Q, K, V = torch.matmul(x,q_W), torch.matmul(x,k_W), torch.matmul(x,v_W)\n",
    "\n",
    "# Now instantitate the ak and av learnable edge information\n",
    "ak = nn.Parameter(torch.rand(size=(L, L, D), requires_grad=True))\n",
    "av = nn.Parameter(torch.rand(size=(L, L, D), requires_grad=True))"
   ]
  },
  {
   "cell_type": "markdown",
   "id": "2c10f3b0-4021-47d3-92b5-5d0092d190b7",
   "metadata": {},
   "source": [
    "Now that we have our values, we can calculate everything that we need. First we must compute our edge interactions $e$. This can be done:\n",
    "\n",
    "$ e_{ij} = \\frac{x_i W^{Q}(x_j W^{K} + a_{ij}^{K})^{\\top}}{\\sqrt(d_z)}$\n",
    "\n",
    "$e \\in \\mathbb{R}^{B \\times L \\times L}$"
   ]
  },
  {
   "cell_type": "code",
   "execution_count": 315,
   "id": "e671e6ee-a2fb-48bd-8664-cfeed41161bc",
   "metadata": {},
   "outputs": [],
   "source": [
    "# First part of numerator is standard dot product\n",
    "e_num1 = torch.matmul(Q, K.transpose(-1,-2))\n",
    "\n",
    "# Second part of numerator needs to be permuted and then multiplied\n",
    "ak_t = ak.transpose(1,2) # (L, L, D) -> (L, D, L)\n",
    "Q_p = Q.permute(1, 0, 2) # (B, L, D) -> (L, B, D)\n",
    "num2 = torch.matmul(Q_p, ak_t) # (L, B, D) * (L, D, L) - >  (L, B, L)\n",
    "num2_p = num2.permute(1, 0, 2) # (L, B, L) -> (B, L, L)\n",
    "\n",
    "# Now we can add the numerators\n",
    "num = e_num1 + num2_p\n",
    "\n",
    "# and normalize \n",
    "e = num / math.sqrt(D)"
   ]
  },
  {
   "cell_type": "code",
   "execution_count": 316,
   "id": "e2ccc7f2-004c-49ab-ac33-02a79ca35464",
   "metadata": {},
   "outputs": [],
   "source": [
    "mask = torch.tril(torch.ones(L, L)).unsqueeze(0)\n",
    "e = e.masked_fill(mask == 0, float(\"-inf\"))"
   ]
  },
  {
   "cell_type": "markdown",
   "id": "faa8ba98-9768-4b8f-817b-80a0ed90f264",
   "metadata": {},
   "source": [
    "With the edge information we can generate an edge attention/weight matix $\\alpha$. \n",
    "Where:\n",
    "\n",
    "$\\alpha_{ij} = \\frac{\\exp{e_{ij}}}{\\sum_{k=1}^{n} \\exp{e_{ik}}}$\n",
    "\n",
    "$\\alpha \\in \\mathbb{R}^{B \\times L \\times L}$"
   ]
  },
  {
   "cell_type": "code",
   "execution_count": 317,
   "id": "96ccf86d-7f1c-4d52-a9c4-83e0b36634c7",
   "metadata": {},
   "outputs": [],
   "source": [
    "# Now we can compute alpha (softmax) over ith values\n",
    "alpha = nn.functional.softmax(e, dim=-1)  #torch.exp(e) / torch.einsum('bij,bik->bij', torch.exp(e), torch.exp(e)) This didn't seem to work. Might need to check"
   ]
  },
  {
   "cell_type": "markdown",
   "id": "1e96385c-8a48-4c18-85e2-560ce8bb842a",
   "metadata": {},
   "source": [
    "Next we have to compute $z_i$. Where we sum over every interaction for $i$, scaled by $\\alpha$ and edge contributions added with $a^{V}$.\n",
    "\n",
    "$ z_i = \\sum_{j=1}^{n} \\alpha_{ij}(x_j W^V + a_{ij}^V)$"
   ]
  },
  {
   "cell_type": "code",
   "execution_count": 318,
   "id": "6d1e7480-77c5-456d-be1c-704a652bd6d8",
   "metadata": {},
   "outputs": [],
   "source": [
    "# Now we can compute z, but following what we did above\n",
    "z_1 = torch.matmul(\n",
    "    alpha,\n",
    "    V\n",
    ")\n",
    "z_2 = torch.matmul(\n",
    "    alpha.permute(1, 0, 2), # (B, L, L) -> (L, B, L)\n",
    "    av # (L, L, D)\n",
    ").permute(1, 0, 2) # (L, B, D) -> (B, L, D)\n",
    "\n",
    "# Add the two z components together\n",
    "z = nn.functional.softmax(z_1 + z_2, dim=-1)"
   ]
  },
  {
   "cell_type": "code",
   "execution_count": 319,
   "id": "b32e8aaf-1c6a-4fd2-91f5-f3e80a22dc17",
   "metadata": {},
   "outputs": [
    {
     "data": {
      "text/plain": [
       "tensor([[1.0781e-02, 9.2133e-04, 7.4437e-05,  ..., 1.0268e-03, 8.2101e-05,\n",
       "         5.3857e-04],\n",
       "        [1.5318e-02, 1.2921e-03, 5.8624e-05,  ..., 1.0828e-03, 1.9308e-04,\n",
       "         3.4863e-04],\n",
       "        [1.5936e-02, 8.9296e-04, 3.8795e-05,  ..., 2.1698e-03, 1.6133e-04,\n",
       "         3.3197e-04],\n",
       "        ...,\n",
       "        [1.7682e-02, 7.4715e-04, 9.8702e-05,  ..., 1.5342e-03, 1.7090e-04,\n",
       "         5.7108e-04],\n",
       "        [9.2319e-03, 9.7564e-04, 7.6433e-05,  ..., 1.1160e-03, 1.4333e-04,\n",
       "         3.1088e-04],\n",
       "        [1.5253e-02, 8.4498e-04, 6.2887e-05,  ..., 1.9056e-03, 1.3085e-04,\n",
       "         5.2658e-04]], grad_fn=<SliceBackward0>)"
      ]
     },
     "execution_count": 319,
     "metadata": {},
     "output_type": "execute_result"
    }
   ],
   "source": [
    "z[0, :, :]"
   ]
  },
  {
   "cell_type": "markdown",
   "id": "29544e69-d910-42d9-8ffd-c59a9fedbcd8",
   "metadata": {},
   "source": [
    "We end our attention run through with $z \\in \\mathbb{R}^{B \\times L \\times D}$"
   ]
  },
  {
   "cell_type": "markdown",
   "id": "b7e4f74e-d363-472a-a112-f4a91d79bd41",
   "metadata": {
    "jp-MarkdownHeadingCollapsed": true
   },
   "source": [
    "---\n",
    "\n",
    "# Symmetric Relative PE"
   ]
  },
  {
   "cell_type": "markdown",
   "id": "84225a92-d040-474f-a577-1a0e035acd20",
   "metadata": {},
   "source": [
    "The implementation of this method will be done the same as the Random Init Relative PE method.\n",
    "However, the $a^{K}$ & $a^{V}$ values will be filled by embeddings computed from relative distances.\n",
    "\n",
    "This can be done, by computing a symmetric distance matrix $R \\in \\mathbb{R}^{L \\times L}$"
   ]
  },
  {
   "cell_type": "code",
   "execution_count": 244,
   "id": "67a186c0-a3d5-4e42-963d-77ff3eef3d62",
   "metadata": {},
   "outputs": [],
   "source": [
    "# First we compute a symmetric matrix\n",
    "\n",
    "# Generate the ith column index\n",
    "i = torch.arange(L)\n",
    "\n",
    "# Now we compute the symmetric distance\n",
    "dist = i[:, None] - i[None, :]\n",
    "\n",
    "# now fix the sign\n",
    "R = torch.abs(dist)"
   ]
  },
  {
   "cell_type": "code",
   "execution_count": 245,
   "id": "067efb1a-5636-46a8-8ece-b8c3850da9e8",
   "metadata": {},
   "outputs": [
    {
     "data": {
      "text/plain": [
       "Text(0.5, 1.0, 'Symmetric Relative PE')"
      ]
     },
     "execution_count": 245,
     "metadata": {},
     "output_type": "execute_result"
    },
    {
     "data": {
      "image/png": "[encoded data removed]",
      "text/plain": [
       "<Figure size 640x480 with 2 Axes>"
      ]
     },
     "metadata": {},
     "output_type": "display_data"
    }
   ],
   "source": [
    "# We can check and visualize our data\n",
    "fig, ax = plt.subplots()\n",
    "\n",
    "# Plot values\n",
    "heatmap = ax.imshow(R, cmap=\"seismic\")\n",
    "\n",
    "# Plot cbar \n",
    "cbar = plt.colorbar(heatmap)\n",
    "cbar.set_label(\"Relative Distance\", rotation=270, labelpad=15)\n",
    "\n",
    "plt.xlabel(\"$i$ th position (L)\")\n",
    "plt.ylabel(\"$j$ th position (L)\")\n",
    "plt.title(\"Symmetric Relative PE\")"
   ]
  },
  {
   "cell_type": "markdown",
   "id": "12cfdecf-b7fb-4901-935b-572a3b7b41ac",
   "metadata": {},
   "source": [
    "We can see from the graph above, we have the desired $R$ matrix that is symmetric\n",
    "\n",
    "Next, we have to embed this distance information into $D$ space, so that we can generate our $a^K$ & $a^V$ tensors"
   ]
  },
  {
   "cell_type": "code",
   "execution_count": 202,
   "id": "a49db775-21d1-46f8-b3f5-889da1508c2d",
   "metadata": {},
   "outputs": [],
   "source": [
    "# instantiate the embedding functions for both relation distances\n",
    "aV_embed = nn.Embedding(L, D)\n",
    "aK_embed = nn.Embedding(L, D)\n",
    "\n",
    "# Construct our embed symmetric matrix\n",
    "aK = aV_embed(R)\n",
    "aV = aK_embed(R)"
   ]
  },
  {
   "cell_type": "markdown",
   "id": "239dd9e9-ff78-45dd-bdd1-5903bb405c06",
   "metadata": {},
   "source": [
    "Our resulting $a^K$ & $a^K \\in \\mathbb{R}^{L \\times L \\times D}$, which is the same before. This means we can now perform the same operation as we did before!\n",
    "Follow Random Init Relative PE directions above!"
   ]
  },
  {
   "cell_type": "markdown",
   "id": "b083f4a7-d2d3-4ce8-830e-6593e778b11e",
   "metadata": {
    "jp-MarkdownHeadingCollapsed": true
   },
   "source": [
    "---\n",
    "# Offset (Cyclic) Relative PE"
   ]
  },
  {
   "cell_type": "markdown",
   "id": "fa9e6c94-d026-4d44-ad3f-c5e08a913c3b",
   "metadata": {},
   "source": [
    "Again, the implementation of this method will be done the same as the Random Init Relative PE method.\n",
    "\n",
    "However, the $a^{K}$ & $a^{V}$ values will be filled by embeddings computed from relative offset distances.\n",
    "\n",
    "This can be done, by computing a symmetric distance matrix $R \\in \\mathbb{R}^{L \\times L}$ and then computing the offset distances, as shown below."
   ]
  },
  {
   "cell_type": "code",
   "execution_count": 246,
   "id": "a502862d-ce02-4361-86b1-1da9775c4c50",
   "metadata": {},
   "outputs": [],
   "source": [
    "# Generate the ith column index\n",
    "i = torch.arange(L)\n",
    "\n",
    "# Take make a 2d tensor of size (L, 2) Where we can (i, i+L), so we have to flip the stack\n",
    "ij = torch.stack((i, i+L), dim=-1)\n",
    "\n",
    "# We make the same symmetric matrix from before\n",
    "offset = i[:, None] - i[None, :]\n",
    "\n",
    "# Now we use a dimension trick to compute the absolute distances between ij by adding ij.unsqueeze(1, 2) and ij.unsqueeze(0,1)\n",
    "# This allows us to compute the cyclic position in the resulting tensors 2nd dimension. \n",
    "c_offset = torch.abs(ij[:, None,:, None] - ij[None, :, None, :])\n",
    "\n",
    "# Then we an compute the distances by taking the min from that 2nd and 3rd resulting dimension\n",
    "R = torch.tensor(c_offset.numpy().min((2,3)))\n",
    "\n",
    "# Now we need to flip the sign of values that are less than the offset distance \n",
    "a = R < torch.abs(offset)\n",
    "R[a] = -R[a]\n",
    "\n",
    "# Fully we reflip the signs \n",
    "R = R * torch.sign(offset)"
   ]
  },
  {
   "cell_type": "code",
   "execution_count": 370,
   "id": "44d8c251-20cc-45a0-9ca3-fecaedb377db",
   "metadata": {},
   "outputs": [
    {
     "data": {
      "text/plain": [
       "Text(0.5, 1.0, 'Offset/Cyclic Relative PE')"
      ]
     },
     "execution_count": 370,
     "metadata": {},
     "output_type": "execute_result"
    },
    {
     "data": {
      "image/png": "[encoded data removed]",
      "text/plain": [
       "<Figure size 640x480 with 2 Axes>"
      ]
     },
     "metadata": {},
     "output_type": "display_data"
    }
   ],
   "source": [
    "# We can check and visualize our data\n",
    "fig, ax = plt.subplots()\n",
    "\n",
    "# Plot values\n",
    "heatmap = ax.imshow(R, cmap=\"seismic\")\n",
    "\n",
    "# Plot cbar \n",
    "cbar = plt.colorbar(heatmap)\n",
    "cbar.set_label(\"Relative Distance\", rotation=270, labelpad=15)\n",
    "\n",
    "plt.xlabel(\"$i$ th position (L)\")\n",
    "plt.ylabel(\"$j$ th position (L)\")\n",
    "plt.title(\"Offset/Cyclic Relative PE\")"
   ]
  },
  {
   "cell_type": "markdown",
   "id": "82d62b67-3f3d-458a-b4cc-3b29a61bbb81",
   "metadata": {},
   "source": [
    "Seeing that we have a specified offset $R$ matrix now, we can embed this information and create our $a^K$ & $a^V$ relation learned matrices."
   ]
  },
  {
   "cell_type": "code",
   "execution_count": 366,
   "id": "e04791cf-42de-4302-ae05-9059990a6b7a",
   "metadata": {},
   "outputs": [],
   "source": [
    "# Set embedding function\n",
    "aK_embed = nn.Embedding(L+1, D)\n",
    "aV_embed = nn.Embedding(L+1, D)\n",
    "\n",
    "# Get rid of negative signs, but differentiate between the two\n",
    "aV_offset = aV_embed(R + L//2)\n",
    "aK_offset = aK_embed(R + L//2)"
   ]
  },
  {
   "cell_type": "code",
   "execution_count": 369,
   "id": "9da248af-3e16-41d2-9c27-881086785171",
   "metadata": {},
   "outputs": [
    {
     "data": {
      "text/plain": [
       "Text(0.5, 1.0, 'Offset/Cyclic Relative PE (Range 0 to 8)')"
      ]
     },
     "execution_count": 369,
     "metadata": {},
     "output_type": "execute_result"
    },
    {
     "data": {
      "image/png": "[encoded data removed]",
      "text/plain": [
       "<Figure size 640x480 with 2 Axes>"
      ]
     },
     "metadata": {},
     "output_type": "display_data"
    }
   ],
   "source": [
    "# This graph is just to show that the R + L graph representation is still the same, but now has all tokens between 0 and L\n",
    "# We can check and visualize our data\n",
    "fig, ax = plt.subplots()\n",
    "\n",
    "# Plot values\n",
    "heatmap = ax.imshow(R + L//2, cmap='seismic')\n",
    "\n",
    "# Plot cbar \n",
    "cbar = plt.colorbar(heatmap)\n",
    "cbar.set_label(\"Relative Distance\", rotation=270, labelpad=15)\n",
    "\n",
    "plt.xlabel(\"$i$ th position (L)\")\n",
    "plt.ylabel(\"$j$ th position (L)\")\n",
    "plt.title(\"Offset/Cyclic Relative PE (Range 0 to 8)\")"
   ]
  },
  {
   "cell_type": "markdown",
   "id": "6a021b39-deca-48f5-9833-84a615717c91",
   "metadata": {
    "jp-MarkdownHeadingCollapsed": true
   },
   "source": [
    "---\n",
    "# Model Implementation \n",
    "\n",
    "Here we show a possible model implementation for the Relative Attention mechanism within a model"
   ]
  },
  {
   "cell_type": "code",
   "execution_count": 570,
   "id": "dc5b0b8e-5604-4a10-8ac4-835ae65a58c2",
   "metadata": {},
   "outputs": [],
   "source": [
    "class RelativeAttention(nn.Module):\n",
    "    def __init__(self,\n",
    "                 d_model: int,\n",
    "                 num_heads: int,\n",
    "                 max_len: int = 1024,\n",
    "                 dropout: float = 0.1,\n",
    "                 device: str = \"cuda\" if torch.cuda.is_available() else \"cpu\",\n",
    "                 method: str = \"random\",\n",
    "                 ):\n",
    "        super().__init__()\n",
    "        \"\"\"Input for attention and cyclic offset positional encodings\n",
    "\n",
    "        PARAMETERS\n",
    "        ----------\n",
    "        d_model : int\n",
    "            Dimensionality of the model. In the sense of what is the desired\n",
    "            out dimension. Also, what is the input dimension size\n",
    "\n",
    "        num_heads: int\n",
    "            The number of heads to run\n",
    "\n",
    "        max_len: int\n",
    "            Max length sequence. This can be larger then the given dataset, especially\n",
    "            since the generated encodings are relative\n",
    "\n",
    "        dropout : float\n",
    "            The amount of data to dropout\n",
    "\n",
    "        device: str\n",
    "            Figures out the cuda or cpu method to use\n",
    "\n",
    "        method: str\n",
    "            Specify the method of relative positional encoding desired\n",
    "        \"\"\"\n",
    "        assert d_model % num_heads == 0, \"Model Dimensions is not divisible by num-heads\"\n",
    "        self.d_head = d_model // num_heads  # Dimension of each head\n",
    "        self.max_len = max_len              # Max length of the strings allowed, currently 8\n",
    "        self.d_model = d_model\n",
    "        self.num_heads = num_heads\n",
    "        self.dropout = nn.Dropout(dropout)\n",
    "        \n",
    "        # No bias only weight matrix\n",
    "        self.key = nn.Linear(d_model, d_model, bias=False, device=device)\n",
    "        self.query = nn.Linear(d_model, d_model, bias=False, device=device)\n",
    "        self.value = nn.Linear(d_model, d_model, bias=False, device=device)\n",
    "        \n",
    "        # Specify the particular relative position method you want to use\n",
    "        if method == \"random\":\n",
    "            # Specify the relative matrices aK and aV\n",
    "            self.aK = nn.Parameter(\n",
    "                torch.randn(size=(max_len, max_len, self.d_head)).to(device),\n",
    "                requires_grad=True\n",
    "            )\n",
    "            self.aV = nn.Parameter(\n",
    "                torch.randn(size=(max_len, max_len, self.d_head)).to(device),\n",
    "                requires_grad=True\n",
    "            )\n",
    "        elif method == \"symmetric\":\n",
    "            # First make the symmetric distance matrix\n",
    "            i = torch.arange(max_len)\n",
    "            dist = i[:, None] - i[None, :]\n",
    "            R = torch.abs(dist).to(device)\n",
    "            # Specify learning embedding functions\n",
    "            self.aK_embed = nn.Embedding(max_len, self.d_head, device=device)\n",
    "            self.aV_embed = nn.Embedding(max_len, self.d_head, device=device)\n",
    "            # generate our relative matrices aK and aV\n",
    "            self.aK = nn.Parameter(\n",
    "                self.aK_embed(R),\n",
    "                requires_grad=True,\n",
    "            )\n",
    "            self.aV = nn.Parameter(\n",
    "                self.aV_embed(R),\n",
    "                requires_grad=True,\n",
    "            )\n",
    "        else:\n",
    "            # First we make an offset distance matrix\n",
    "            i = torch.arange(max_len)\n",
    "            ij = torch.stack((i, i+max_len), dim=-1)\n",
    "            offset = (i[:, None] - i[None, :]).to(device)\n",
    "            c_offset = torch.abs(\n",
    "                ij[:, None, :, None] - ij[None, :, None, :]\n",
    "            )\n",
    "            R = torch.tensor(c_offset.numpy().min((2,3)), device=device)\n",
    "            less_than_idx = R < torch.abs(offset)\n",
    "            R[less_than_idx] = -R[less_than_idx]\n",
    "            R = R * torch.sign(offset)\n",
    "            # Specify learning embedding functions\n",
    "            self.aK_embed = nn.Embedding(max_len+1, self.d_head, device=device)\n",
    "            self.aV_embed = nn.Embedding(max_len+1, self.d_head, device=device)\n",
    "            # generate our relative matrices aK and aV\n",
    "            self.aK = nn.Parameter(\n",
    "                self.aK_embed(R + max_len//2),\n",
    "                requires_grad=True,\n",
    "            )\n",
    "            self.aV = nn.Parameter(\n",
    "                self.aV_embed(R + max_len//2),\n",
    "                requires_grad=True,\n",
    "            )\n",
    "\n",
    "        self.register_buffer(\n",
    "            \"mask\",\n",
    "            (torch.tril(torch.ones(max_len, max_len)).unsqueeze(0).unsqueeze(0)).to(device),\n",
    "            persistent=True\n",
    "        )\n",
    "\n",
    "    def forward(self, x, y=None, set_mask=False, return_attention=False):\n",
    "        # input x shape (Batch, Length, Dim)\n",
    "        batch_size, seq_len, _ = x.shape\n",
    "\n",
    "        if seq_len > self.max_len:\n",
    "            raise ValueError(\n",
    "                \"Sequence length exceeds model capacity\"\n",
    "            )\n",
    "\n",
    "        # Generate our K, V, Q matrices\n",
    "        # w.r.t K = XW^(k), Q = XW^(Q), V = XW^(V)\n",
    "        # Then tranpose K and v, q so that when they multiply QK_t we get L as the output and not D_h\n",
    "        if y != None:\n",
    "            k_t  = self.key(y).reshape(batch_size, seq_len, self.num_heads, -1).permute(0, 2, 3, 1) # (B, H, D_h, L)\n",
    "            v = self.value(y).reshape(batch_size, seq_len, self.num_heads, -1).transpose(1, 2)      # (B, H, L, D_h)\n",
    "        else:\n",
    "            k_t = self.key(x).reshape(batch_size, seq_len, self.num_heads, -1).permute(0, 2, 3, 1) # (B, H, D_h, L)\n",
    "            v = self.value(x).reshape(batch_size, seq_len, self.num_heads, -1).transpose(1, 2)      # (B, H, L, D_h)\n",
    "        q = self.query(x).reshape(batch_size, seq_len, self.num_heads, -1).transpose(1,2)           # (B, H, L, D_h)\n",
    "\n",
    "        # Calculate the edge information\n",
    "        # Compute Numerator first. Full numerator is Q(K + aK)^{T}\n",
    "        e_num1 = torch.matmul(q, k_t) # Q * K^T (B, H, L, L)\n",
    "\n",
    "        # Second Numerator value\n",
    "        ak_t = self.aK.transpose(1,2).unsqueeze(1) # (L, L, D_h) -> (L, 1, D_h, L)\n",
    "        q_p = q.permute(2, 0, 1, 3) #(B, H, L, D_h) -> (L, B, H, D_h)\n",
    "        e_num2 = torch.matmul(q_p, ak_t).permute(1, 2, 0, 3) # (L, B, H, L) -> (B, H, L, L)\n",
    "        num = e_num1 + e_num2\n",
    "\n",
    "        # Normalize the numerator by dimension length\n",
    "        e = num / math.sqrt(self.d_head)\n",
    "\n",
    "        # Also, compute mask\n",
    "        if set_mask:\n",
    "            mask = self.mask[:, :, :seq_len, :seq_len]\n",
    "            e = e.masked_fill(mask == 0, float(\"-inf\")) # (B, H, L, L)\n",
    "\n",
    "        # Now we compute the alpha (softmax) attention score\n",
    "        alpha = nn.functional.softmax(e, dim=-1) #torch.exp(e) / torch.sum( torch.exp(e), dim=1, keepdim=True)\n",
    "\n",
    "        # Now we can compute the out value z\n",
    "        z_1 = torch.matmul(\n",
    "            alpha,\n",
    "            v,\n",
    "        )\n",
    "        z_2 = torch.matmul(\n",
    "            alpha.permute(2, 0, 1, 3),\n",
    "            self.aV.unsqueeze(1),\n",
    "        ).permute(1, 2, 0, 3) #(L, B, H, D) -> (B, H, L, D)\n",
    "        z = z_1 + z_2\n",
    "\n",
    "        # Now permute z for final output\n",
    "        out = z.transpose(1,2).reshape(batch_size, seq_len, -1)\n",
    "\n",
    "        if return_attention:\n",
    "            return self.dropout(out), alpha\n",
    "        else:\n",
    "            return self.dropout(out)"
   ]
  },
  {
   "cell_type": "code",
   "execution_count": 590,
   "id": "532f377f-40bd-4291-8286-cd32c2790065",
   "metadata": {},
   "outputs": [
    {
     "name": "stdout",
     "output_type": "stream",
     "text": [
      "torch.Size([100, 8, 128])\n",
      "tensor([[ 0.2692, -0.5380, -0.2958,  ..., -0.0331,  0.2957,  0.3066],\n",
      "        [ 0.0676, -0.6979, -0.3385,  ...,  0.1554,  0.3388, -0.0621],\n",
      "        [ 0.3732, -0.7703, -0.0000,  ...,  0.2496,  0.2947, -0.0000],\n",
      "        ...,\n",
      "        [ 0.4088, -0.7862, -0.3908,  ...,  0.2787,  0.2090, -0.0000],\n",
      "        [ 0.1337, -0.7167, -0.4067,  ...,  0.0895,  0.5327, -0.1392],\n",
      "        [ 0.4399, -0.5035, -0.1923,  ..., -0.0353,  0.0000,  0.3288]],\n",
      "       device='cuda:0', grad_fn=<SliceBackward0>)\n"
     ]
    }
   ],
   "source": [
    "# Init module\n",
    "attn = RelativeAttention(num_heads = 4,\n",
    "                               d_model = 128,\n",
    "                               max_len = 8,\n",
    "                               method = \"symmetric\")\n",
    "# Run and check\n",
    "out, attention = attn(x.to(\"cuda\"), set_mask=False, return_attention=True)\n",
    "\n",
    "# print out\n",
    "print(out.shape)\n",
    "print(out[0, :, :])"
   ]
  },
  {
   "cell_type": "code",
   "execution_count": 448,
   "id": "62f8b513-f382-4ebd-897a-9a6ac935fad6",
   "metadata": {},
   "outputs": [
    {
     "name": "stdout",
     "output_type": "stream",
     "text": [
      "Parameter name: aK, Parameter shape: torch.Size([8, 8, 32])\n",
      "Parameter name: aV, Parameter shape: torch.Size([8, 8, 32])\n",
      "Parameter name: key.weight, Parameter shape: torch.Size([128, 128])\n",
      "Parameter name: query.weight, Parameter shape: torch.Size([128, 128])\n",
      "Parameter name: value.weight, Parameter shape: torch.Size([128, 128])\n",
      "Parameter name: aK_embed.weight, Parameter shape: torch.Size([9, 32])\n",
      "Parameter name: aV_embed.weight, Parameter shape: torch.Size([9, 32])\n"
     ]
    }
   ],
   "source": [
    "# Check to see that parameter is added\n",
    "named_parameters = dict(attn.named_parameters())\n",
    "for name, param in named_parameters.items():\n",
    "    print(f\"Parameter name: {name}, Parameter shape: {param.shape}\")"
   ]
  },
  {
   "cell_type": "markdown",
   "id": "77e6e8ac-96a4-47b7-a83e-f3e05d3029db",
   "metadata": {
    "jp-MarkdownHeadingCollapsed": true
   },
   "source": [
    "---\n",
    "# MSA Model Implementation"
   ]
  },
  {
   "cell_type": "markdown",
   "id": "7a953561-cd25-4dc2-84be-a18b59742d54",
   "metadata": {},
   "source": [
    "If we want to implement this type of attention with some MSA Transformer we could configure it like so..."
   ]
  },
  {
   "cell_type": "code",
   "execution_count": 561,
   "id": "7e64251a-d87e-4317-9def-fcdaf66451ae",
   "metadata": {},
   "outputs": [],
   "source": [
    "class RelativeMSAAttention(nn.Module):\n",
    "    def __init__(self,\n",
    "                 d_model: int,\n",
    "                 num_heads: int,\n",
    "                 max_len: int = 1024,\n",
    "                 dropout: float = 0.1,\n",
    "                 device: str = \"cuda\" if torch.cuda.is_available() else \"cpu\",\n",
    "                 msa_depth: int = 64,\n",
    "                 method: str = \"random\",\n",
    "                 ):\n",
    "        super().__init__()\n",
    "        \"\"\"Input for attention and cyclic offset positional encodings\n",
    "\n",
    "        PARAMETERS\n",
    "        ----------\n",
    "        d_model : int\n",
    "            Dimensionality of the model. In the sense of what is the desired\n",
    "            out dimension. Also, what is the input dimension size\n",
    "\n",
    "        num_heads: int\n",
    "            The number of heads to run\n",
    "\n",
    "        max_len: int\n",
    "            Max length sequence. This can be larger then the given dataset, especially\n",
    "            since the generated encodings are relative\n",
    "\n",
    "        dropout : float\n",
    "            The amount of data to dropout\n",
    "\n",
    "        device: str\n",
    "            Figures out the cuda or cpu method to use\n",
    "\n",
    "        msa_depth: int\n",
    "            Amount of sequences within the MSA\n",
    "\n",
    "        method: str\n",
    "            Specify the method of relative positional encoding desired\n",
    "        \"\"\"\n",
    "        assert d_model % num_heads == 0, \"Model Dimensions is not divisible by num-heads\"\n",
    "        self.d_head = d_model // num_heads  # Dimension of each head\n",
    "        self.max_len = max_len              # Max length of the strings allowed, currently 8\n",
    "        self.d_model = d_model\n",
    "        self.num_heads = num_heads\n",
    "        self.dropout = nn.Dropout(dropout)\n",
    "        self.msa_depth = msa_depth\n",
    "        \n",
    "        # No bias only weight matrix\n",
    "        self.key = nn.Linear(d_model, d_model, bias=False, device=device)\n",
    "        self.query = nn.Linear(d_model, d_model, bias=False, device=device)\n",
    "        self.value = nn.Linear(d_model, d_model, bias=False, device=device)\n",
    "        \n",
    "        # Specify the particular relative position method you want to use\n",
    "        if method == \"random\":\n",
    "            # Specify the relative matrices aK and aV\n",
    "            self.aK = nn.Parameter(\n",
    "                torch.randn(size=(max_len, max_len, self.d_head)).to(device),\n",
    "                requires_grad=True\n",
    "            )\n",
    "            self.aV = nn.Parameter(\n",
    "                torch.randn(size=(max_len, max_len, self.d_head)).to(device),\n",
    "                requires_grad=True\n",
    "            )\n",
    "        elif method == \"symmetric\":\n",
    "            # First make the symmetric distance matrix\n",
    "            i = torch.arange(max_len)\n",
    "            dist = i[:, None] - i[None, :]\n",
    "            R = torch.abs(dist).to(device)\n",
    "            # Specify learning embedding functions\n",
    "            self.aK_embed = nn.Embedding(max_len, self.d_head, device=device)\n",
    "            self.aV_embed = nn.Embedding(max_len, self.d_head, device=device)\n",
    "            # generate our relative matrices aK and aV\n",
    "            self.aK = nn.Parameter(\n",
    "                self.aK_embed(R),\n",
    "                requires_grad=True,\n",
    "            )\n",
    "            self.aV = nn.Parameter(\n",
    "                self.aV_embed(R),\n",
    "                requires_grad=True,\n",
    "            )\n",
    "        else:\n",
    "            # First we make an offset distance matrix\n",
    "            i = torch.arange(max_len)\n",
    "            ij = torch.stack((i, i+max_len), dim=-1)\n",
    "            offset = (i[:, None] - i[None, :]).to(device)\n",
    "            c_offset = torch.abs(\n",
    "                ij[:, None, :, None] - ij[None, :, None, :]\n",
    "            )\n",
    "            R = torch.tensor(c_offset.numpy().min((2,3)), device=device)\n",
    "            less_than_idx = R < torch.abs(offset)\n",
    "            R[less_than_idx] = -R[less_than_idx]\n",
    "            R = R * torch.sign(offset)\n",
    "            # Specify learning embedding functions\n",
    "            self.aK_embed = nn.Embedding(max_len+1, self.d_head, device=device)\n",
    "            self.aV_embed = nn.Embedding(max_len+1, self.d_head, device=device)\n",
    "            # generate our relative matrices aK and aV\n",
    "            self.aK = nn.Parameter(\n",
    "                self.aK_embed(R + max_len//2),\n",
    "                requires_grad=True,\n",
    "            )\n",
    "            self.aV = nn.Parameter(\n",
    "                self.aV_embed(R + max_len//2),\n",
    "                requires_grad=True,\n",
    "            )\n",
    "\n",
    "        self.register_buffer(\n",
    "            \"mask\",\n",
    "            (torch.tril(torch.ones(max_len, max_len)).unsqueeze(0).unsqueeze(0).unsqueeze(0)).to(device),\n",
    "            persistent=True\n",
    "        )\n",
    "\n",
    "    def forward(self, x, y=None, set_mask=False, return_attention=False):\n",
    "        # input x shape (Batch, Length, Dim)\n",
    "        batch_size, MSA, seq_len, _ = x.shape\n",
    "\n",
    "        if seq_len > self.max_len:\n",
    "            raise ValueError(\n",
    "                \"Sequence length exceeds model capacity\"\n",
    "            )\n",
    "\n",
    "        # Generate our K, V, Q matrices\n",
    "        # w.r.t K = XW^(k), Q = XW^(Q), V = XW^(V)\n",
    "        # Then tranpose K and v, q so that when they multiply QK_t we get L as the output and not D_h\n",
    "        if y != None:\n",
    "            k_t  = self.key(y).reshape(batch_size, MSA, seq_len, self.num_heads, -1).permute(0, 3, 1, 4, 2)     # (B, H, M, D_h, L)\n",
    "            v = self.value(y).reshape(batch_size, MSA, seq_len, self.num_heads, -1).permute(0, 3, 1, 2, 4)      # (B, H, M, L, D_h)\n",
    "        else:\n",
    "            k_t  = self.key(x).reshape(batch_size, MSA, seq_len, self.num_heads, -1).permute(0, 3, 1, 4, 2)     # (B, H, M, D_h, L)\n",
    "            v = self.value(x).reshape(batch_size, MSA, seq_len, self.num_heads, -1).permute(0, 3, 1, 2, 4)      # (B, H, M, L, D_h)\n",
    "        q = self.query(x).reshape(batch_size, MSA, seq_len, self.num_heads, -1).permute(0, 3, 1, 2, 4)          # (B, H, M, L, D_h)\n",
    "\n",
    "        # Calculate the edge information\n",
    "        # Compute Numerator first. Full numerator is Q(K + aK)^{T}\n",
    "        e_num1 = torch.matmul(q, k_t) # Q * K^T (B, H, M, L, L)\n",
    "\n",
    "        # Second Numerator value\n",
    "        ak_t = self.aK.transpose(1,2).unsqueeze(1).unsqueeze(1) # (L, L, D_h) -> (L, 1, 1, D_h, L)\n",
    "        q_p = q.permute(3, 0, 1, 2, 4) #(B, H, M, L, D_h) -> (L, B, H, M, D_h)\n",
    "        e_num2 = torch.matmul(q_p, ak_t).permute(1, 2, 3, 0, 4) # (L, B, H, M, L) -> (B, H, L, L)\n",
    "        num = e_num1 + e_num2\n",
    "\n",
    "        # Normalize the numerator by dimension length\n",
    "        e = num / math.sqrt(self.d_head)\n",
    "\n",
    "        # Also, compute mask\n",
    "        if set_mask:\n",
    "            mask = self.mask[:, :, :, :seq_len, :seq_len]\n",
    "            e = e.masked_fill(mask == 0, float(\"-inf\")) # (B, H, M, L, L)\n",
    "\n",
    "        # Now we compute the alpha (softmax) attention score\n",
    "        alpha = nn.functional.softmax(e, dim=-1) #torch.exp(e) / torch.sum( torch.exp(e), dim=1, keepdim=True)\n",
    "\n",
    "        # Now we can compute the out value z\n",
    "        z_1 = torch.matmul(\n",
    "            alpha,\n",
    "            v,\n",
    "        )\n",
    "        z_2 = torch.matmul(\n",
    "            alpha.permute(3, 0, 1, 2, 4),  # (B, H, M, L, L) -> (L, B, H, M, L)\n",
    "            self.aV.unsqueeze(1).unsqueeze(1),  # (B, L, L) -> (B, 1, 1, L, L)\n",
    "        ).permute(1, 2, 3, 0, 4) #(L, B, H, M, D) -> (B, H, M, L, D)\n",
    "        z = torch.sum(z_1 + z_2, axis=2)\n",
    "\n",
    "        # Now permute z for final output\n",
    "        out = z.transpose(1,2).reshape(batch_size, seq_len, -1)\n",
    "\n",
    "        if return_attention:\n",
    "            return self.dropout(out), alpha\n",
    "        else:\n",
    "            return self.dropout(out)"
   ]
  },
  {
   "cell_type": "code",
   "execution_count": 575,
   "id": "7fcebc6b-7189-4822-8b09-d38cd12b5913",
   "metadata": {},
   "outputs": [
    {
     "data": {
      "text/plain": [
       "torch.Size([100, 64, 8, 128])"
      ]
     },
     "execution_count": 575,
     "metadata": {},
     "output_type": "execute_result"
    }
   ],
   "source": [
    "# Compute an MSA x input\n",
    "M = 64\n",
    "x_msa = torch.randn(size=(B, M, L, D), device=\"cuda\")\n",
    "x_msa.shape"
   ]
  },
  {
   "cell_type": "code",
   "execution_count": 576,
   "id": "4fca9ad4-b797-4b33-b705-421de6902389",
   "metadata": {},
   "outputs": [],
   "source": [
    "attn_msa = RelativeMSAAttention(num_heads = 4,\n",
    "                               d_model = 128,\n",
    "                               max_len = 8,\n",
    "                               method = \"cyclic\")\n",
    "\n",
    "out_msa, attention_msa = attn_msa(x_msa, return_attention=True)"
   ]
  },
  {
   "cell_type": "markdown",
   "id": "485aff46-90c4-4555-82ea-39dfc95fdadd",
   "metadata": {
    "jp-MarkdownHeadingCollapsed": true
   },
   "source": [
    "---\n",
    "# Visualizing Attention Heads"
   ]
  },
  {
   "cell_type": "markdown",
   "id": "881bf2f1-72c7-43cd-a857-2b2de22c6ae9",
   "metadata": {},
   "source": [
    "Given a models output we need to be able to visualize each head, we can do that as follows:"
   ]
  },
  {
   "cell_type": "code",
   "execution_count": 595,
   "id": "74e4c039-6833-43cb-ae29-4ec48d16968f",
   "metadata": {},
   "outputs": [],
   "source": [
    "# Convert to numpy array\n",
    "demo = attention.detach().cpu().numpy()"
   ]
  },
  {
   "cell_type": "code",
   "execution_count": 596,
   "id": "d7503eb9-7712-4c73-8fb3-5a3e6735b8bc",
   "metadata": {},
   "outputs": [
    {
     "data": {
      "text/plain": [
       "<matplotlib.colorbar.Colorbar at 0x7f55de840fa0>"
      ]
     },
     "execution_count": 596,
     "metadata": {},
     "output_type": "execute_result"
    },
    {
     "data": {
      "image/png": "[encoded data removed]",
      "text/plain": [
       "<Figure size 640x480 with 2 Axes>"
      ]
     },
     "metadata": {},
     "output_type": "display_data"
    }
   ],
   "source": [
    "# Visualize one head\n",
    "plt.imshow(demo[0, 0,:, :])\n",
    "plt.title(\"Head 1, Sample 0\")\n",
    "plt.xlabel(\"Token\")\n",
    "plt.ylabel(\"Token\")\n",
    "plt.colorbar()"
   ]
  },
  {
   "cell_type": "markdown",
   "id": "40148a9e-c161-4684-a824-48be9d5f1b7f",
   "metadata": {},
   "source": [
    "Lets define a function, so that it will be easier in the future to check attention heads"
   ]
  },
  {
   "cell_type": "code",
   "execution_count": 632,
   "id": "7365d4fe-faad-40fc-9606-6b484d162a4e",
   "metadata": {},
   "outputs": [],
   "source": [
    "def plot_attention(attention_map: torch.tensor, idx: int, idx_sequence=None):\n",
    "    \"\"\"Plot attention maps for specific idx\n",
    "    \n",
    "    PARAMS\n",
    "    ------\n",
    "        attention_map: torch.tensor\n",
    "            scaled dot products outputted before V\n",
    "            \n",
    "        idx: int\n",
    "            sample within the batch to plot\n",
    "\n",
    "        idx_sequence: str\n",
    "            If supplied, will fill in the x and y ticks\n",
    "            with the appropriate characters\n",
    "    \"\"\"\n",
    "    # Extract the sample within batch\n",
    "    sample = attention_map[idx].detach().cpu()\n",
    "    \n",
    "    # check if msa or not\n",
    "    if len(attention_map.shape) == 5:\n",
    "        sample = torch.sum(sample, axis=1)\n",
    "\n",
    "    # Extract the head number\n",
    "    H = sample.size(0)\n",
    "\n",
    "    # create the number of subplots\n",
    "    N = H//2\n",
    "\n",
    "    # create plot\n",
    "    fig, ax = plt.subplots(N, N, figsize=(6,6), layout=\"constrained\")\n",
    "\n",
    "    # iter through subplot axes\n",
    "    rows = torch.arange(N).repeat_interleave(N)\n",
    "    cols = torch.arange(N).repeat(N)\n",
    "\n",
    "    if idx_sequence != None:\n",
    "        sequence_list = list(idx_sequence)\n",
    "\n",
    "    # now loop through and plot each Head\n",
    "    for head in range(H):\n",
    "        # Set individual plto parameters\n",
    "        heatmap = ax[rows[head], cols[head]].imshow(sample[head, :, :], cmap=\"viridis\")\n",
    "        ax[rows[head], cols[head]].set_title(f\"Head-{head+1}\", fontweight=\"bold\")\n",
    "        ax[rows[head], cols[head]].set_xlabel(\"Token ($L$)\")\n",
    "        ax[rows[head], cols[head]].set_ylabel(\"Token ($L$)\")\n",
    "        if idx_sequence != None:\n",
    "            ax[rows[head], cols[head]].set_xticks(np.arange(sample.size(-1)), labels=sequence_list)\n",
    "            ax[rows[head], cols[head]].set_yticks(np.arange(sample.size(-1)), labels=sequence_list)\n",
    "        \n",
    "        \n",
    "\n",
    "    # Set global colorbar and title\n",
    "    fig.colorbar(heatmap, ax=ax, shrink=0.6)\n",
    "    fig.suptitle(f\"Sample-{idx} Attention Heads\", fontweight=\"bold\")\n"
   ]
  },
  {
   "cell_type": "code",
   "execution_count": 636,
   "id": "21f9510e-a890-4bb4-94ff-7eb3f332e0ca",
   "metadata": {},
   "outputs": [
    {
     "data": {
      "image/png": "[encoded data removed]",
      "text/plain": [
       "<Figure size 600x600 with 5 Axes>"
      ]
     },
     "metadata": {},
     "output_type": "display_data"
    }
   ],
   "source": [
    "plot_attention(attention_msa, 0, \"ABCDEFGH\")"
   ]
  },
  {
   "cell_type": "code",
   "execution_count": null,
   "id": "5f93b884-d1a0-497e-8341-28e939cccb17",
   "metadata": {},
   "outputs": [],
   "source": []
  }
 ],
 "metadata": {
  "kernelspec": {
   "display_name": "Python [conda env:pyg]",
   "language": "python",
   "name": "conda-env-pyg-py"
  },
  "language_info": {
   "codemirror_mode": {
    "name": "ipython",
    "version": 3
   },
   "file_extension": ".py",
   "mimetype": "text/x-python",
   "name": "python",
   "nbconvert_exporter": "python",
   "pygments_lexer": "ipython3",
   "version": "3.9.18"
  }
 },
 "nbformat": 4,
 "nbformat_minor": 5
}
